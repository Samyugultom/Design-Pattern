{
 "cells": [
  {
   "attachments": {},
   "cell_type": "markdown",
   "metadata": {},
   "source": [
    "<b> STRUKTURAL PATTERN ADAPTER PADA PENGIRIMAN PESAN EMAIL <B>\n",
    "\n",
    "<i> Nama : Sam Yu Gultom 202410103077"
   ]
  },
  {
   "cell_type": "code",
   "execution_count": 6,
   "metadata": {},
   "outputs": [
    {
     "name": "stdout",
     "output_type": "stream",
     "text": [
      "Mengirim email ke kampusmerdeka.com:\n",
      "Subjek: AKUN PLATFORM MSIB\n",
      "Konten: saya tidak bisa mengupload surat rekomedasi dan SPTJM pada akun saya\n"
     ]
    }
   ],
   "source": [
    "# Target Interface\n",
    "class MessageSender:\n",
    "    def send_message(self, message):\n",
    "        pass\n",
    "\n",
    "\n",
    "# Adaptee\n",
    "# Pihak yang menghubungkan target interface yang tidak sesuai antara client dengan server\n",
    "class EmailService:\n",
    "    def send_email(self, recipient, subject, content):\n",
    "        print(f\"Mengirim email ke {recipient}:\\nSubjek: {subject}\\nKonten: {content}\")\n",
    "\n",
    "\n",
    "# Adapter\n",
    "# mengubah antarmuka Adaptee menjadi antarmuka yang diharapkan oleh klien\n",
    "class EmailAdapter(MessageSender):\n",
    "    def __init__(self, email_service):\n",
    "        self.email_service = email_service\n",
    "\n",
    "    def send_message(self, message):\n",
    "        recipient = message.get(\"penerima\")\n",
    "        subjek = message.get(\"subjek\")\n",
    "        konten = message.get(\"konten\")\n",
    "        self.email_service.send_email(recipient, subjek, konten)\n",
    "\n",
    "\n",
    "# Client\n",
    "def main():\n",
    "    email_service = EmailService()\n",
    "    message_adapter = EmailAdapter(email_service)\n",
    "\n",
    "    message = {\n",
    "        \"penerima\": \"kampusmerdeka.com\",\n",
    "        \"subjek\": \"AKUN PLATFORM MSIB\",\n",
    "        \"konten\": \"saya tidak bisa mengupload surat rekomedasi dan SPTJM pada akun saya\"\n",
    "    }\n",
    "\n",
    "    message_adapter.send_message(message)\n",
    "\n",
    "\n",
    "if __name__ == '__main__':\n",
    "    main()\n"
   ]
  },
  {
   "cell_type": "code",
   "execution_count": null,
   "metadata": {},
   "outputs": [],
   "source": []
  }
 ],
 "metadata": {
  "kernelspec": {
   "display_name": "Python 3",
   "language": "python",
   "name": "python3"
  },
  "language_info": {
   "codemirror_mode": {
    "name": "ipython",
    "version": 3
   },
   "file_extension": ".py",
   "mimetype": "text/x-python",
   "name": "python",
   "nbconvert_exporter": "python",
   "pygments_lexer": "ipython3",
   "version": "3.11.3"
  },
  "orig_nbformat": 4
 },
 "nbformat": 4,
 "nbformat_minor": 2
}
